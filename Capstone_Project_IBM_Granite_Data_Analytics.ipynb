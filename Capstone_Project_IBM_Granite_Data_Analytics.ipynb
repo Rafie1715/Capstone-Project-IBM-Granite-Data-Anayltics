{
  "nbformat": 4,
  "nbformat_minor": 0,
  "metadata": {
    "colab": {
      "provenance": [],
      "authorship_tag": "ABX9TyN9MvfGXiSi1rjo98zq0GFW",
      "include_colab_link": true
    },
    "kernelspec": {
      "name": "python3",
      "display_name": "Python 3"
    },
    "language_info": {
      "name": "python"
    }
  },
  "cells": [
    {
      "cell_type": "markdown",
      "metadata": {
        "id": "view-in-github",
        "colab_type": "text"
      },
      "source": [
        "<a href=\"https://colab.research.google.com/github/Rafie1715/Capstone-Project-IBM-Granite-Data-Anayltics/blob/main/Capstone_Project_IBM_Granite_Data_Analytics.ipynb\" target=\"_parent\"><img src=\"https://colab.research.google.com/assets/colab-badge.svg\" alt=\"Open In Colab\"/></a>"
      ]
    },
    {
      "cell_type": "code",
      "execution_count": 23,
      "metadata": {
        "colab": {
          "base_uri": "https://localhost:8080/"
        },
        "id": "ATDDzU6e7DqC",
        "outputId": "137c45ac-0ec5-434e-f1b0-cc7ee3e7e0b3"
      },
      "outputs": [
        {
          "output_type": "stream",
          "name": "stdout",
          "text": [
            "Requirement already satisfied: replicate in /usr/local/lib/python3.12/dist-packages (1.0.7)\n",
            "Requirement already satisfied: httpx<1,>=0.21.0 in /usr/local/lib/python3.12/dist-packages (from replicate) (0.28.1)\n",
            "Requirement already satisfied: packaging in /usr/local/lib/python3.12/dist-packages (from replicate) (25.0)\n",
            "Requirement already satisfied: pydantic>1.10.7 in /usr/local/lib/python3.12/dist-packages (from replicate) (2.11.7)\n",
            "Requirement already satisfied: typing_extensions>=4.5.0 in /usr/local/lib/python3.12/dist-packages (from replicate) (4.15.0)\n",
            "Requirement already satisfied: anyio in /usr/local/lib/python3.12/dist-packages (from httpx<1,>=0.21.0->replicate) (4.10.0)\n",
            "Requirement already satisfied: certifi in /usr/local/lib/python3.12/dist-packages (from httpx<1,>=0.21.0->replicate) (2025.8.3)\n",
            "Requirement already satisfied: httpcore==1.* in /usr/local/lib/python3.12/dist-packages (from httpx<1,>=0.21.0->replicate) (1.0.9)\n",
            "Requirement already satisfied: idna in /usr/local/lib/python3.12/dist-packages (from httpx<1,>=0.21.0->replicate) (3.10)\n",
            "Requirement already satisfied: h11>=0.16 in /usr/local/lib/python3.12/dist-packages (from httpcore==1.*->httpx<1,>=0.21.0->replicate) (0.16.0)\n",
            "Requirement already satisfied: annotated-types>=0.6.0 in /usr/local/lib/python3.12/dist-packages (from pydantic>1.10.7->replicate) (0.7.0)\n",
            "Requirement already satisfied: pydantic-core==2.33.2 in /usr/local/lib/python3.12/dist-packages (from pydantic>1.10.7->replicate) (2.33.2)\n",
            "Requirement already satisfied: typing-inspection>=0.4.0 in /usr/local/lib/python3.12/dist-packages (from pydantic>1.10.7->replicate) (0.4.1)\n",
            "Requirement already satisfied: sniffio>=1.1 in /usr/local/lib/python3.12/dist-packages (from anyio->httpx<1,>=0.21.0->replicate) (1.3.1)\n",
            "API Token Replicate berhasil dikonfigurasi.\n"
          ]
        }
      ],
      "source": [
        "# 1. Install library Replicate\n",
        "!pip install replicate\n",
        "\n",
        "# 2. Import semua library yang dibutuhkan\n",
        "import os\n",
        "import pandas as pd\n",
        "import replicate\n",
        "import matplotlib.pyplot as plt\n",
        "import seaborn as sns\n",
        "from google.colab import userdata\n",
        "\n",
        "# 3. Konfigurasi API Token dari Colab Secrets\n",
        "# Pastikan Anda sudah menyimpan token dengan nama 'REPLICATE_API_TOKEN'\n",
        "try:\n",
        "    REPLICATE_API_TOKEN = userdata.get('REPLICATE_API_TOKEN')\n",
        "    os.environ[\"REPLICATE_API_TOKEN\"] = REPLICATE_API_TOKEN\n",
        "    print(\"API Token Replicate berhasil dikonfigurasi.\")\n",
        "except userdata.SecretNotFoundError:\n",
        "    print(\"Error: Secret 'REPLICATE_API_TOKEN' tidak ditemukan. Harap simpan token Anda di Colab Secrets.\")"
      ]
    },
    {
      "cell_type": "code",
      "source": [
        "from google.colab import files\n",
        "\n",
        "# 1. Minta pengguna untuk mengunggah file kaggle.json\n",
        "print(\"Silakan unggah file 'kaggle.json' Anda.\")\n",
        "uploaded = files.upload()\n",
        "\n",
        "# 2. Konfigurasi file kaggle.json\n",
        "if not uploaded:\n",
        "    print(\"\\n❌ Anda tidak mengunggah file. Harap jalankan sel ini lagi.\")\n",
        "else:\n",
        "    filename = list(uploaded.keys())[0]\n",
        "    !mkdir -p ~/.kaggle\n",
        "    !mv \"{filename}\" ~/.kaggle/kaggle.json\n",
        "    !chmod 600 ~/.kaggle/kaggle.json\n",
        "    print(\"\\n✅ File 'kaggle.json' berhasil dikonfigurasi.\")\n",
        "\n",
        "    # 3. Unduh dataset dari Kaggle (sesuai link yang Anda berikan)\n",
        "    !kaggle datasets download -d farhan999/tokopedia-product-reviews\n",
        "\n",
        "    # 4. Unzip file dataset\n",
        "    !unzip -o tokopedia-product-reviews.zip\n",
        "    print(\"\\n✅ Dataset berhasil diunduh dan di-unzip.\")"
      ],
      "metadata": {
        "colab": {
          "base_uri": "https://localhost:8080/",
          "height": 246
        },
        "id": "zCyxjbXnNlUX",
        "outputId": "ddab3795-9ba1-47ab-bf0a-7dea0550aa02"
      },
      "execution_count": 26,
      "outputs": [
        {
          "output_type": "stream",
          "name": "stdout",
          "text": [
            "Silakan unggah file 'kaggle.json' Anda.\n"
          ]
        },
        {
          "output_type": "display_data",
          "data": {
            "text/plain": [
              "<IPython.core.display.HTML object>"
            ],
            "text/html": [
              "\n",
              "     <input type=\"file\" id=\"files-6d4cb7e4-8d5b-4377-b63e-76e235ac5e17\" name=\"files[]\" multiple disabled\n",
              "        style=\"border:none\" />\n",
              "     <output id=\"result-6d4cb7e4-8d5b-4377-b63e-76e235ac5e17\">\n",
              "      Upload widget is only available when the cell has been executed in the\n",
              "      current browser session. Please rerun this cell to enable.\n",
              "      </output>\n",
              "      <script>// Copyright 2017 Google LLC\n",
              "//\n",
              "// Licensed under the Apache License, Version 2.0 (the \"License\");\n",
              "// you may not use this file except in compliance with the License.\n",
              "// You may obtain a copy of the License at\n",
              "//\n",
              "//      http://www.apache.org/licenses/LICENSE-2.0\n",
              "//\n",
              "// Unless required by applicable law or agreed to in writing, software\n",
              "// distributed under the License is distributed on an \"AS IS\" BASIS,\n",
              "// WITHOUT WARRANTIES OR CONDITIONS OF ANY KIND, either express or implied.\n",
              "// See the License for the specific language governing permissions and\n",
              "// limitations under the License.\n",
              "\n",
              "/**\n",
              " * @fileoverview Helpers for google.colab Python module.\n",
              " */\n",
              "(function(scope) {\n",
              "function span(text, styleAttributes = {}) {\n",
              "  const element = document.createElement('span');\n",
              "  element.textContent = text;\n",
              "  for (const key of Object.keys(styleAttributes)) {\n",
              "    element.style[key] = styleAttributes[key];\n",
              "  }\n",
              "  return element;\n",
              "}\n",
              "\n",
              "// Max number of bytes which will be uploaded at a time.\n",
              "const MAX_PAYLOAD_SIZE = 100 * 1024;\n",
              "\n",
              "function _uploadFiles(inputId, outputId) {\n",
              "  const steps = uploadFilesStep(inputId, outputId);\n",
              "  const outputElement = document.getElementById(outputId);\n",
              "  // Cache steps on the outputElement to make it available for the next call\n",
              "  // to uploadFilesContinue from Python.\n",
              "  outputElement.steps = steps;\n",
              "\n",
              "  return _uploadFilesContinue(outputId);\n",
              "}\n",
              "\n",
              "// This is roughly an async generator (not supported in the browser yet),\n",
              "// where there are multiple asynchronous steps and the Python side is going\n",
              "// to poll for completion of each step.\n",
              "// This uses a Promise to block the python side on completion of each step,\n",
              "// then passes the result of the previous step as the input to the next step.\n",
              "function _uploadFilesContinue(outputId) {\n",
              "  const outputElement = document.getElementById(outputId);\n",
              "  const steps = outputElement.steps;\n",
              "\n",
              "  const next = steps.next(outputElement.lastPromiseValue);\n",
              "  return Promise.resolve(next.value.promise).then((value) => {\n",
              "    // Cache the last promise value to make it available to the next\n",
              "    // step of the generator.\n",
              "    outputElement.lastPromiseValue = value;\n",
              "    return next.value.response;\n",
              "  });\n",
              "}\n",
              "\n",
              "/**\n",
              " * Generator function which is called between each async step of the upload\n",
              " * process.\n",
              " * @param {string} inputId Element ID of the input file picker element.\n",
              " * @param {string} outputId Element ID of the output display.\n",
              " * @return {!Iterable<!Object>} Iterable of next steps.\n",
              " */\n",
              "function* uploadFilesStep(inputId, outputId) {\n",
              "  const inputElement = document.getElementById(inputId);\n",
              "  inputElement.disabled = false;\n",
              "\n",
              "  const outputElement = document.getElementById(outputId);\n",
              "  outputElement.innerHTML = '';\n",
              "\n",
              "  const pickedPromise = new Promise((resolve) => {\n",
              "    inputElement.addEventListener('change', (e) => {\n",
              "      resolve(e.target.files);\n",
              "    });\n",
              "  });\n",
              "\n",
              "  const cancel = document.createElement('button');\n",
              "  inputElement.parentElement.appendChild(cancel);\n",
              "  cancel.textContent = 'Cancel upload';\n",
              "  const cancelPromise = new Promise((resolve) => {\n",
              "    cancel.onclick = () => {\n",
              "      resolve(null);\n",
              "    };\n",
              "  });\n",
              "\n",
              "  // Wait for the user to pick the files.\n",
              "  const files = yield {\n",
              "    promise: Promise.race([pickedPromise, cancelPromise]),\n",
              "    response: {\n",
              "      action: 'starting',\n",
              "    }\n",
              "  };\n",
              "\n",
              "  cancel.remove();\n",
              "\n",
              "  // Disable the input element since further picks are not allowed.\n",
              "  inputElement.disabled = true;\n",
              "\n",
              "  if (!files) {\n",
              "    return {\n",
              "      response: {\n",
              "        action: 'complete',\n",
              "      }\n",
              "    };\n",
              "  }\n",
              "\n",
              "  for (const file of files) {\n",
              "    const li = document.createElement('li');\n",
              "    li.append(span(file.name, {fontWeight: 'bold'}));\n",
              "    li.append(span(\n",
              "        `(${file.type || 'n/a'}) - ${file.size} bytes, ` +\n",
              "        `last modified: ${\n",
              "            file.lastModifiedDate ? file.lastModifiedDate.toLocaleDateString() :\n",
              "                                    'n/a'} - `));\n",
              "    const percent = span('0% done');\n",
              "    li.appendChild(percent);\n",
              "\n",
              "    outputElement.appendChild(li);\n",
              "\n",
              "    const fileDataPromise = new Promise((resolve) => {\n",
              "      const reader = new FileReader();\n",
              "      reader.onload = (e) => {\n",
              "        resolve(e.target.result);\n",
              "      };\n",
              "      reader.readAsArrayBuffer(file);\n",
              "    });\n",
              "    // Wait for the data to be ready.\n",
              "    let fileData = yield {\n",
              "      promise: fileDataPromise,\n",
              "      response: {\n",
              "        action: 'continue',\n",
              "      }\n",
              "    };\n",
              "\n",
              "    // Use a chunked sending to avoid message size limits. See b/62115660.\n",
              "    let position = 0;\n",
              "    do {\n",
              "      const length = Math.min(fileData.byteLength - position, MAX_PAYLOAD_SIZE);\n",
              "      const chunk = new Uint8Array(fileData, position, length);\n",
              "      position += length;\n",
              "\n",
              "      const base64 = btoa(String.fromCharCode.apply(null, chunk));\n",
              "      yield {\n",
              "        response: {\n",
              "          action: 'append',\n",
              "          file: file.name,\n",
              "          data: base64,\n",
              "        },\n",
              "      };\n",
              "\n",
              "      let percentDone = fileData.byteLength === 0 ?\n",
              "          100 :\n",
              "          Math.round((position / fileData.byteLength) * 100);\n",
              "      percent.textContent = `${percentDone}% done`;\n",
              "\n",
              "    } while (position < fileData.byteLength);\n",
              "  }\n",
              "\n",
              "  // All done.\n",
              "  yield {\n",
              "    response: {\n",
              "      action: 'complete',\n",
              "    }\n",
              "  };\n",
              "}\n",
              "\n",
              "scope.google = scope.google || {};\n",
              "scope.google.colab = scope.google.colab || {};\n",
              "scope.google.colab._files = {\n",
              "  _uploadFiles,\n",
              "  _uploadFilesContinue,\n",
              "};\n",
              "})(self);\n",
              "</script> "
            ]
          },
          "metadata": {}
        },
        {
          "output_type": "stream",
          "name": "stdout",
          "text": [
            "Saving kaggle.json to kaggle (3).json\n",
            "\n",
            "✅ File 'kaggle.json' berhasil dikonfigurasi.\n",
            "Dataset URL: https://www.kaggle.com/datasets/farhan999/tokopedia-product-reviews\n",
            "License(s): MIT\n",
            "tokopedia-product-reviews.zip: Skipping, found more recently modified local copy (use --force to force download)\n",
            "Archive:  tokopedia-product-reviews.zip\n",
            "  inflating: tokopedia-product-reviews-2019.csv  \n",
            "\n",
            "✅ Dataset berhasil diunduh dan di-unzip.\n"
          ]
        }
      ]
    },
    {
      "cell_type": "code",
      "source": [
        "df = pd.read_csv('tokopedia-product-reviews-2019.csv')\n",
        "df_analysis = df[['rating', 'text']].copy()\n",
        "df_analysis.dropna(subset=['text'], inplace=True) # Hapus ulasan kosong\n",
        "\n",
        "# --- LANGKAH PENTING: Membuat Kolom Sentimen dari Rating ---\n",
        "def tentukan_sentimen(rating):\n",
        "    if rating >= 4:\n",
        "      return 'positif'\n",
        "    elif rating == 3:\n",
        "      return 'netral'\n",
        "    else: # rating 1 atau 2\n",
        "      return 'negatif'\n",
        "\n",
        "df_analysis['sentimen'] = df_analysis['rating'].apply(tentukan_sentimen)\n",
        "\n",
        "print(\"\\n✅ Dataset siap untuk dianalisis (kolom 'sentimen' sudah dibuat).\")\n",
        "print(f\"Jumlah data: {len(df_analysis)} ulasan.\")\n",
        "print(\"\\nContoh 5 baris data pertama:\")\n",
        "print(df_analysis.head())"
      ],
      "metadata": {
        "colab": {
          "base_uri": "https://localhost:8080/"
        },
        "id": "iOwHloD_ZtQJ",
        "outputId": "500a4a60-f05d-4eac-a879-81ad7d7c676c"
      },
      "execution_count": 28,
      "outputs": [
        {
          "output_type": "stream",
          "name": "stdout",
          "text": [
            "\n",
            "✅ Dataset siap untuk dianalisis (kolom 'sentimen' sudah dibuat).\n",
            "Jumlah data: 40607 ulasan.\n",
            "\n",
            "Contoh 5 baris data pertama:\n",
            "   rating                                             text sentimen\n",
            "0       5           Barang sesuai pesanan dan cepat sampai  positif\n",
            "1       5                         Barang bagus harga murah  positif\n",
            "2       5  Paket rapi...mantap....cepat....sampe ke tujuan  positif\n",
            "3       5                       ya saya puas dgn barangnya  positif\n",
            "4       5                     Responya luar biasa b mantap  positif\n"
          ]
        }
      ]
    },
    {
      "cell_type": "code",
      "source": [
        "# Nama model IBM Granite di Replicate\n",
        "MODEL_ID = \"ibm-granite/granite-3.3-8b-instruct\"\n",
        "\n",
        "# Fungsi untuk bertanya ke model Granite melalui Replicate\n",
        "def ask_granite_replicate(prompt):\n",
        "    \"\"\"Mengirim prompt ke model Granite di Replicate dan mengembalikan respons.\"\"\"\n",
        "    try:\n",
        "        output = replicate.run(\n",
        "            MODEL_ID,\n",
        "            input={\"prompt\": prompt, \"prompt_template\": \"{prompt}\"}\n",
        "        )\n",
        "        full_response = \"\".join(output)\n",
        "        return full_response.strip()\n",
        "    except Exception as e:\n",
        "        return f\"Error: {e}\"\n",
        "\n",
        "print(\"✅ Fungsi 'ask_granite_replicate' siap digunakan.\")"
      ],
      "metadata": {
        "colab": {
          "base_uri": "https://localhost:8080/"
        },
        "id": "QdMYp6ZkWDYR",
        "outputId": "76fdf7e5-4c7c-4031-930e-ba9ebb4336a9"
      },
      "execution_count": 29,
      "outputs": [
        {
          "output_type": "stream",
          "name": "stdout",
          "text": [
            "✅ Fungsi 'ask_granite_replicate' siap digunakan.\n"
          ]
        }
      ]
    },
    {
      "cell_type": "code",
      "source": [
        "# Ambil 10 contoh ulasan negatif untuk dianalisis oleh AI\n",
        "negative_reviews = df_analysis[df_analysis['sentimen'] == 'negatif']['text'].head(10).tolist()\n",
        "negative_reviews_text = \"\\n- \".join(negative_reviews)\n",
        "\n",
        "# --- AI Task 1: Summarization ---\n",
        "summarization_prompt = f\"\"\"\n",
        "Analisis ulasan-ulasan negatif berikut dari pelanggan Tokopedia.\n",
        "Identifikasi dan rangkum 3 topik keluhan utama yang paling sering muncul.\n",
        "Berikan jawaban dalam format daftar bernomor dalam Bahasa Indonesia.\n",
        "\n",
        "Ulasan Pelanggan:\n",
        "- {negative_reviews_text}\n",
        "\n",
        "Top 3 Topik Keluhan:\n",
        "1.\n",
        "2.\n",
        "3.\n",
        "\"\"\"\n",
        "print(\"Meringkas topik keluhan utama menggunakan AI...\")\n",
        "complaint_topics = ask_granite_replicate(summarization_prompt)\n",
        "print(\"--- Topik Utama Keluhan ---\")\n",
        "print(complaint_topics)\n",
        "\n",
        "# --- AI Task 2: Recommendation Generation ---\n",
        "recommendation_prompt = f\"\"\"\n",
        "Seorang penjual di Tokopedia menerima keluhan dengan topik utama sebagai berikut:\n",
        "{complaint_topics}\n",
        "\n",
        "Berdasarkan masalah tersebut, berikan tiga rekomendasi bisnis yang konkret dan dapat ditindaklanjuti (actionable) untuk penjual.\n",
        "Format jawaban sebagai daftar bernomor dengan penjelasan singkat dalam Bahasa Indonesia.\n",
        "\n",
        "Rekomendasi untuk Penjual:\n",
        "1. [Rekomendasi 1] - [Penjelasan singkat]\n",
        "2. [Rekomendasi 2] - [Penjelasan singkat]\n",
        "3. [Rekomendasi 3] - [Penjelasan singkat]\n",
        "\"\"\"\n",
        "print(\"\\nMembuat rekomendasi bisnis menggunakan AI...\")\n",
        "business_recommendations = ask_granite_replicate(recommendation_prompt)\n",
        "print(\"--- Rekomendasi Actionable untuk Penjual ---\")\n",
        "print(business_recommendations)"
      ],
      "metadata": {
        "colab": {
          "base_uri": "https://localhost:8080/"
        },
        "id": "S2TQsNgIXCF3",
        "outputId": "47c81e21-32e0-4331-96fb-3e446fc0a91b"
      },
      "execution_count": 30,
      "outputs": [
        {
          "output_type": "stream",
          "name": "stdout",
          "text": [
            "Meringkas topik keluhan utama menggunakan AI...\n",
            "--- Topik Utama Keluhan ---\n",
            "1. Barang yang dikirim tidak sesuai pesanan: Ulasan-ulasan pelanggan menunjukkan bahwa barang yang mereka terima tidak sesuai dengan pesanan yang mereka lakukan. Ini termasuk kesalahan dalam ukuran, kualitas, atau spesifikasi yang tidak sesuai dengan yang diinginkan.\n",
            "\n",
            "2. Masalah pengiriman dan kondisi barang: Beberapa pelanggan menyebutkan bahwa pengiriman mereka cepat, tetapi barang yang diterima rusak atau dalam kondisi buruk. Komplain juga terdengar tentang kemacetan atau gangguan dalam proses pengiriman.\n",
            "\n",
            "3. Kesalahan dalam deskripsi produk: Keterangannya yang tidak tepat dalam deskripsi produk adalah masalah lain yang sering muncul. Pelanggan menyadari bahwa isi atau fitur yang dijelaskan dalam deskripsi produk tidak sesuai dengan apa yang mereka terima, menyebabkan kekecewaan.\n",
            "\n",
            "Catatan: Ulasan-ulasan di atas terdiri dari teks konversasi dan menggunakan bahasa yang sedikit tidak rapi. Karena itu, interpretasi mungkin bervariasi, namun topik keluhan utama diidentifikasi berdasarkan konten dan konteks yang diberikan.\n",
            "\n",
            "Membuat rekomendasi bisnis menggunakan AI...\n",
            "--- Rekomendasi Actionable untuk Penjual ---\n",
            "Rekomendasi untuk Penjual:\n",
            "1. [Perbaiki Proses Verifikasi Data] - [Penjelasan singkat] Perbaiki proses verifikasi data dari pesanan pelanggan agar tidak ada kesalahan dalam ukuran, kualitas, atau spesifikasi. Pastikan setiap produk diverifikasi secara singkat sebelum dikirim untuk memastikan kesesuaian dengan pesanan.\n",
            "\n",
            "2. [Mengurangi Risiko Pengiriman] - [Penjelasan singkat] Implementasikan langkah-langkah yang lebih aman dalam proses pengiriman. Gunakan paket yang lebih berkualitas, memastikan produk tersebut terpakai packaging yang memadai, dan berikan pilihan paket yang lebih aman jika ingin dipertimbangkan. Juga, periksa dan perminta feedback terkait kondisi pengiriman secara berkala untuk mengidentifikasi dan mengatasi masalah kemacetan atau gangguan.\n",
            "\n",
            "3. [Perbaiki Deskripsi Produk] - [Penjelasan singkat] Pastikan deskripsi produk di Tokopedia tepat dan detail. Ubah atau tambah foto produk jika diperlukan untuk menunjukkan spesifikasi dan fitur yang sebenarnya. Lakukan audits berkala terhadap deskripsi produk untuk memastikan akurasi dan relevansi dengan barang yang tersimpan.\n",
            "\n",
            "Dengan melakukan tiga rekomendasi ini, penjual dapat mengurangi keluhan pelanggan berdasarkan barang yang tidak sesuai, masalah pengiriman, dan kesalahan dalam deskripsi produk.\n"
          ]
        }
      ]
    },
    {
      "cell_type": "code",
      "source": [
        "# Hitung jumlah ulasan per sentimen\n",
        "sentiment_counts = df_analysis['sentimen'].value_counts()\n",
        "\n",
        "# Buat visualisasi\n",
        "plt.figure(figsize=(8, 6))\n",
        "# Tentukan urutan bar agar lebih logis: positif, netral, negatif\n",
        "order = ['positif', 'netral', 'negatif']\n",
        "sns.barplot(x=sentiment_counts.index, y=sentiment_counts.values, palette='viridis', order=order)\n",
        "plt.title('Distribusi Sentimen Ulasan Produk Tokopedia', fontsize=16)\n",
        "plt.xlabel('Sentimen', fontsize=12)\n",
        "plt.ylabel('Jumlah Ulasan', fontsize=12)\n",
        "plt.show()\n",
        "\n",
        "# Tulis narasi untuk laporan\n",
        "print(\"--- Insight & Findings ---\")\n",
        "print(f\"1. Distribusi Sentimen: Dari total {len(df_analysis)} ulasan, mayoritas pelanggan memberikan ulasan 'positif'. Namun, terdapat sejumlah ulasan 'negatif' yang perlu dianalisis lebih dalam untuk menemukan area perbaikan.\")\n",
        "print(\"\\n2. Akar Masalah Pelanggan Tidak Puas: Analisis AI pada ulasan negatif menemukan tiga akar masalah utama, yaitu:\")\n",
        "print(complaint_topics)\n",
        "\n",
        "print(\"\\n--- Conclusion & Recommendation ---\")\n",
        "print(\"Kesimpulan: Kunci untuk meningkatkan rating toko adalah dengan secara proaktif mengatasi masalah-masalah yang diangkat dalam ulasan negatif.\")\n",
        "print(\"Rekomendasi Berbasis AI untuk Penjual:\")\n",
        "print(business_recommendations)\n",
        "\n",
        "print(\"\\n--- AI Support Explanation ---\")\n",
        "print(\"Pada proyek ini, model AI IBM Granite digunakan untuk:\")\n",
        "print(\"1. **Summarization:** Menganalisis ulasan pelanggan dalam Bahasa Indonesia untuk mengekstrak dan merangkum tema-tema keluhan utama.\")\n",
        "print(\"2. **Recommendation Generation:** Memberikan rekomendasi bisnis yang praktis dan dapat ditindaklanjuti oleh penjual e-commerce berdasarkan masalah yang teridentifikasi.\")"
      ],
      "metadata": {
        "colab": {
          "base_uri": "https://localhost:8080/",
          "height": 1000
        },
        "id": "62E8wgWjXEJP",
        "outputId": "10086815-3254-4cba-f34a-f78c936b91a4"
      },
      "execution_count": 31,
      "outputs": [
        {
          "output_type": "stream",
          "name": "stderr",
          "text": [
            "/tmp/ipython-input-1750698462.py:8: FutureWarning: \n",
            "\n",
            "Passing `palette` without assigning `hue` is deprecated and will be removed in v0.14.0. Assign the `x` variable to `hue` and set `legend=False` for the same effect.\n",
            "\n",
            "  sns.barplot(x=sentiment_counts.index, y=sentiment_counts.values, palette='viridis', order=order)\n"
          ]
        },
        {
          "output_type": "display_data",
          "data": {
            "text/plain": [
              "<Figure size 800x600 with 1 Axes>"
            ],
            "image/png": "[encoded data removed]"
          },
          "metadata": {}
        },
        {
          "output_type": "stream",
          "name": "stdout",
          "text": [
            "--- Insight & Findings ---\n",
            "1. Distribusi Sentimen: Dari total 40607 ulasan, mayoritas pelanggan memberikan ulasan 'positif'. Namun, terdapat sejumlah ulasan 'negatif' yang perlu dianalisis lebih dalam untuk menemukan area perbaikan.\n",
            "\n",
            "2. Akar Masalah Pelanggan Tidak Puas: Analisis AI pada ulasan negatif menemukan tiga akar masalah utama, yaitu:\n",
            "1. Barang yang dikirim tidak sesuai pesanan: Ulasan-ulasan pelanggan menunjukkan bahwa barang yang mereka terima tidak sesuai dengan pesanan yang mereka lakukan. Ini termasuk kesalahan dalam ukuran, kualitas, atau spesifikasi yang tidak sesuai dengan yang diinginkan.\n",
            "\n",
            "2. Masalah pengiriman dan kondisi barang: Beberapa pelanggan menyebutkan bahwa pengiriman mereka cepat, tetapi barang yang diterima rusak atau dalam kondisi buruk. Komplain juga terdengar tentang kemacetan atau gangguan dalam proses pengiriman.\n",
            "\n",
            "3. Kesalahan dalam deskripsi produk: Keterangannya yang tidak tepat dalam deskripsi produk adalah masalah lain yang sering muncul. Pelanggan menyadari bahwa isi atau fitur yang dijelaskan dalam deskripsi produk tidak sesuai dengan apa yang mereka terima, menyebabkan kekecewaan.\n",
            "\n",
            "Catatan: Ulasan-ulasan di atas terdiri dari teks konversasi dan menggunakan bahasa yang sedikit tidak rapi. Karena itu, interpretasi mungkin bervariasi, namun topik keluhan utama diidentifikasi berdasarkan konten dan konteks yang diberikan.\n",
            "\n",
            "--- Conclusion & Recommendation ---\n",
            "Kesimpulan: Kunci untuk meningkatkan rating toko adalah dengan secara proaktif mengatasi masalah-masalah yang diangkat dalam ulasan negatif.\n",
            "Rekomendasi Berbasis AI untuk Penjual:\n",
            "Rekomendasi untuk Penjual:\n",
            "1. [Perbaiki Proses Verifikasi Data] - [Penjelasan singkat] Perbaiki proses verifikasi data dari pesanan pelanggan agar tidak ada kesalahan dalam ukuran, kualitas, atau spesifikasi. Pastikan setiap produk diverifikasi secara singkat sebelum dikirim untuk memastikan kesesuaian dengan pesanan.\n",
            "\n",
            "2. [Mengurangi Risiko Pengiriman] - [Penjelasan singkat] Implementasikan langkah-langkah yang lebih aman dalam proses pengiriman. Gunakan paket yang lebih berkualitas, memastikan produk tersebut terpakai packaging yang memadai, dan berikan pilihan paket yang lebih aman jika ingin dipertimbangkan. Juga, periksa dan perminta feedback terkait kondisi pengiriman secara berkala untuk mengidentifikasi dan mengatasi masalah kemacetan atau gangguan.\n",
            "\n",
            "3. [Perbaiki Deskripsi Produk] - [Penjelasan singkat] Pastikan deskripsi produk di Tokopedia tepat dan detail. Ubah atau tambah foto produk jika diperlukan untuk menunjukkan spesifikasi dan fitur yang sebenarnya. Lakukan audits berkala terhadap deskripsi produk untuk memastikan akurasi dan relevansi dengan barang yang tersimpan.\n",
            "\n",
            "Dengan melakukan tiga rekomendasi ini, penjual dapat mengurangi keluhan pelanggan berdasarkan barang yang tidak sesuai, masalah pengiriman, dan kesalahan dalam deskripsi produk.\n",
            "\n",
            "--- AI Support Explanation ---\n",
            "Pada proyek ini, model AI IBM Granite digunakan untuk:\n",
            "1. **Summarization:** Menganalisis ulasan pelanggan dalam Bahasa Indonesia untuk mengekstrak dan merangkum tema-tema keluhan utama.\n",
            "2. **Recommendation Generation:** Memberikan rekomendasi bisnis yang praktis dan dapat ditindaklanjuti oleh penjual e-commerce berdasarkan masalah yang teridentifikasi.\n"
          ]
        }
      ]
    }
  ]
}